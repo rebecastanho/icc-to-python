{
  "nbformat": 4,
  "nbformat_minor": 0,
  "metadata": {
    "colab": {
      "name": "ICC-Python.ipynb",
      "provenance": [],
      "collapsed_sections": [
        "BDX9gA6womRf",
        "ud8DdKSJ6w1S"
      ],
      "authorship_tag": "ABX9TyPHiypIx4oQj1mMLU0FH+gl",
      "include_colab_link": true
    },
    "kernelspec": {
      "name": "python3",
      "display_name": "Python 3"
    }
  },
  "cells": [
    {
      "cell_type": "markdown",
      "metadata": {
        "id": "view-in-github",
        "colab_type": "text"
      },
      "source": [
        "<a href=\"https://colab.research.google.com/github/rebecastanho/icc-to-python/blob/main/ICC_Python.ipynb\" target=\"_parent\"><img src=\"https://colab.research.google.com/assets/colab-badge.svg\" alt=\"Open In Colab\"/></a>"
      ]
    },
    {
      "cell_type": "markdown",
      "metadata": {
        "id": "BDX9gA6womRf"
      },
      "source": [
        "##**Preparar um código que, dado um número, escreva seu antecessor e o seu sucessor.**"
      ]
    },
    {
      "cell_type": "code",
      "metadata": {
        "id": "4PXe3t2xonzX"
      },
      "source": [
        "def antecessor_sucessor():\r\n",
        "  numero = input('Insira um número: ')\r\n",
        "  numero = int(numero)\r\n",
        "  antecessor = numero - 1\r\n",
        "  sucessor = numero + 1\r\n",
        "  print(f'O número que você digitou foi {numero}. O seu antecessor é {antecessor} e o seu sucessor é {sucessor}.')"
      ],
      "execution_count": 36,
      "outputs": []
    },
    {
      "cell_type": "code",
      "metadata": {
        "colab": {
          "base_uri": "https://localhost:8080/"
        },
        "id": "U6LEqhp1p5zE",
        "outputId": "c8f87812-bcbd-44e1-96ee-b76da0c7d4ef"
      },
      "source": [
        "antecessor_sucessor()"
      ],
      "execution_count": 37,
      "outputs": [
        {
          "output_type": "stream",
          "text": [
            "Insira um número: 5\n",
            "O número que você digitou foi 5. O seu antecessor é 4 e o seu sucessor é 6.\n"
          ],
          "name": "stdout"
        }
      ]
    },
    {
      "cell_type": "code",
      "metadata": {
        "id": "Wz8L13PwqGj0"
      },
      "source": [
        ""
      ],
      "execution_count": null,
      "outputs": []
    },
    {
      "cell_type": "markdown",
      "metadata": {
        "id": "ud8DdKSJ6w1S"
      },
      "source": [
        "##**Preparar um código que, dado um número, escrever os seus algarismos das centenas, dezenas e unidades.**"
      ]
    },
    {
      "cell_type": "code",
      "metadata": {
        "id": "6KBJydhm6sR9"
      },
      "source": [
        "def decompor_cdu():\r\n",
        "  numero = input('Digite um número com três algarismos: ')\r\n",
        "  numero = int(numero)\r\n",
        "  if numero >=100 and numero <=999:\r\n",
        "    centena = int(numero/100)\r\n",
        "    resto = numero - centena*100\r\n",
        "    dezena = int(resto/10)\r\n",
        "    unidade = resto - (dezena*10)\r\n",
        "    print(f'O algarismo das centenas é {centena}, o das dezenas é {dezena} e o das unidades é {unidade}.')\r\n",
        "  else:\r\n",
        "    print('Favor, digitar um número com três algarismos.')"
      ],
      "execution_count": 32,
      "outputs": []
    },
    {
      "cell_type": "code",
      "metadata": {
        "colab": {
          "base_uri": "https://localhost:8080/"
        },
        "id": "T7nTNyjH9j2L",
        "outputId": "15a2794f-07bc-4e34-a6e8-95fc4c16171f"
      },
      "source": [
        "decompor_cdu()"
      ],
      "execution_count": 33,
      "outputs": [
        {
          "output_type": "stream",
          "text": [
            "Digite um número com três algarismos: 123\n",
            "O algarismo das centenas é 1, o das dezenas é 2 e o das unidades é 3.\n"
          ],
          "name": "stdout"
        }
      ]
    }
  ]
}