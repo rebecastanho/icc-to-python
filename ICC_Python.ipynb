{
  "nbformat": 4,
  "nbformat_minor": 0,
  "metadata": {
    "colab": {
      "name": "ICC-Python.ipynb",
      "provenance": [],
      "collapsed_sections": [],
      "authorship_tag": "ABX9TyOFvDgYZ2Z7wabqsERD2KcT",
      "include_colab_link": true
    },
    "kernelspec": {
      "name": "python3",
      "display_name": "Python 3"
    }
  },
  "cells": [
    {
      "cell_type": "markdown",
      "metadata": {
        "id": "view-in-github",
        "colab_type": "text"
      },
      "source": [
        "<a href=\"https://colab.research.google.com/github/rebecastanho/icc-to-python/blob/main/ICC_Python.ipynb\" target=\"_parent\"><img src=\"https://colab.research.google.com/assets/colab-badge.svg\" alt=\"Open In Colab\"/></a>"
      ]
    },
    {
      "cell_type": "markdown",
      "metadata": {
        "id": "ud8DdKSJ6w1S"
      },
      "source": [
        "##**Preparar um código que, dado um número, escrever os seus algarismos das centenas, dezenas e unidades**"
      ]
    },
    {
      "cell_type": "code",
      "metadata": {
        "id": "6KBJydhm6sR9"
      },
      "source": [
        "def decompor_cdu():\r\n",
        "  numero = input('Digite um número com três algarismos: ')\r\n",
        "  numero = int(numero)\r\n",
        "  if numero >=100 and numero <=999:\r\n",
        "    centena = int(numero/100)\r\n",
        "    resto = numero - centena*100\r\n",
        "    dezena = int(resto/10)\r\n",
        "    unidade = resto - (dezena*10)\r\n",
        "    print(f'O algarismo das centenas é {centena}, o das dezenas é {dezena} e o das unidades é {unidade}.')\r\n",
        "  else:\r\n",
        "    print('Favor, digitar um número com três algarismos.')"
      ],
      "execution_count": null,
      "outputs": []
    },
    {
      "cell_type": "code",
      "metadata": {
        "colab": {
          "base_uri": "https://localhost:8080/"
        },
        "id": "T7nTNyjH9j2L",
        "outputId": "ec3227ba-68ab-4f54-c406-7d85fa437410"
      },
      "source": [
        "decompor_cdu()"
      ],
      "execution_count": null,
      "outputs": [
        {
          "output_type": "stream",
          "text": [
            "Digite um número com três algarismos: 356\n",
            "O algarismo das centenas é 3, o das dezenas é 5 e o das unidades é 6.\n"
          ],
          "name": "stdout"
        }
      ]
    }
  ]
}